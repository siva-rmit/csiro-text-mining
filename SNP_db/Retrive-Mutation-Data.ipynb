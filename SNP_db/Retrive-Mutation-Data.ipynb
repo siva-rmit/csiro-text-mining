{
 "cells": [
  {
   "cell_type": "code",
   "execution_count": 15,
   "id": "4ca90290",
   "metadata": {},
   "outputs": [],
   "source": [
    "##Start"
   ]
  },
  {
   "cell_type": "code",
   "execution_count": 16,
   "id": "b806fd79",
   "metadata": {},
   "outputs": [],
   "source": [
    "import ftplib\n",
    "import os"
   ]
  },
  {
   "cell_type": "code",
   "execution_count": 17,
   "id": "e4373e7f",
   "metadata": {},
   "outputs": [
    {
     "name": "stdout",
     "output_type": "stream",
     "text": [
      "Last Modified Date of mutation2pubtatorcentral.gz: 2023-09-13 02:03:12\n",
      "Downloaded mutation2pubtatorcentral.gz with a size of 69.56 MB\n"
     ]
    },
    {
     "data": {
      "text/plain": [
       "'221 Goodbye.'"
      ]
     },
     "execution_count": 17,
     "metadata": {},
     "output_type": "execute_result"
    }
   ],
   "source": [
    "# NLM-FTP server details\n",
    "ftp_url = 'ftp.ncbi.nlm.nih.gov'\n",
    "ftp_directory = '/pub/lu/PubTatorCentral/'\n",
    "filename = 'mutation2pubtatorcentral.gz'\n",
    "timestamp_filename = 'last_modified_timestamp.txt'\n",
    "\n",
    "# Start the FTP session\n",
    "ftp = ftplib.FTP(ftp_url)\n",
    "ftp.login()\n",
    "ftp.cwd(ftp_directory)\n",
    "\n",
    "# Get the last modified date of the file\n",
    "last_modified = ftp.sendcmd(f\"MDTM {filename}\")\n",
    "last_modified_datetime = datetime.strptime(last_modified[4:], \"%Y%m%d%H%M%S\")\n",
    "print(f\"Last Modified Date of {filename}: {last_modified_datetime}\")\n",
    "\n",
    "# Check if the file already exists locally\n",
    "if os.path.exists(filename):\n",
    "    local_last_modified = os.path.getmtime(filename)\n",
    "    if local_last_modified >= int(last_modified[4:]):\n",
    "        print(f\"{filename} is already up to date.\")\n",
    "        ftp.quit()\n",
    "        exit()\n",
    "\n",
    "with open(filename, 'wb') as local_file:\n",
    "    ftp.retrbinary(f\"RETR {filename}\", local_file.write)\n",
    "\n",
    "file_size = os.path.getsize(filename)\n",
    "print(f\"Downloaded {filename} with a size of {file_size / (1024 * 1024):.2f} MB\")\n",
    "\n",
    "# Quit FTP\n",
    "ftp.quit()"
   ]
  },
  {
   "cell_type": "code",
   "execution_count": 1,
   "id": "016988b6",
   "metadata": {},
   "outputs": [],
   "source": [
    "#END"
   ]
  },
  {
   "cell_type": "markdown",
   "id": "dc0b463b",
   "metadata": {},
   "source": [
    "#### Code Descript\n",
    "\n",
    "The code connects to the National Library of Medicine's FTP server to download 'mutation2pubtatorcentral.gz.' It retrieves the last modified date of the file and checks if it already exists locally. If the local file is older, it downloads the updated file. After download, it displays the last modified date and the file size. Finally, it gracefully exits the FTP session.\n",
    "\n",
    "This script helps ensure that the local copy of the file is always up to date by comparing timestamps. It successfully downloaded 'mutation2pubtatorcentral.gz' from the FTP server, confirming that the process was completed."
   ]
  },
  {
   "cell_type": "code",
   "execution_count": null,
   "id": "dfbc9420",
   "metadata": {},
   "outputs": [],
   "source": []
  }
 ],
 "metadata": {
  "kernelspec": {
   "display_name": "Python 3 (ipykernel)",
   "language": "python",
   "name": "python3"
  },
  "language_info": {
   "codemirror_mode": {
    "name": "ipython",
    "version": 3
   },
   "file_extension": ".py",
   "mimetype": "text/x-python",
   "name": "python",
   "nbconvert_exporter": "python",
   "pygments_lexer": "ipython3",
   "version": "3.9.12"
  }
 },
 "nbformat": 4,
 "nbformat_minor": 5
}
