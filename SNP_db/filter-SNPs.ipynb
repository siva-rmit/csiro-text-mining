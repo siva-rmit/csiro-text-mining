{
 "cells": [
  {
   "cell_type": "code",
   "execution_count": 5,
   "id": "4c121839",
   "metadata": {},
   "outputs": [],
   "source": [
    "import gzip\n",
    "import os"
   ]
  },
  {
   "cell_type": "code",
   "execution_count": 4,
   "id": "67e99f48",
   "metadata": {},
   "outputs": [
    {
     "name": "stdout",
     "output_type": "stream",
     "text": [
      "Filtered SNP Mutation data is stored in snp_mutation_data.tsv\n"
     ]
    }
   ],
   "source": [
    "import gzip\n",
    "\n",
    "# Input and output file names\n",
    "input_filename = 'mutation2pubtatorcentral.gz'\n",
    "output_filename = 'snp_mutation_data.tsv'\n",
    "\n",
    "# Open the gzip file and create the output TSV file\n",
    "with gzip.open(input_filename, 'rt') as gz_file, open(output_filename, 'w') as tsv_file:\n",
    "    # Write header to the TSV file (excluding the 'Type' column)\n",
    "    tsv_file.write(\"PMID\\tConcept ID\\tMentions\\tResource\\n\")\n",
    "    \n",
    "    # Process each line in the gzip file\n",
    "    for line in gz_file:\n",
    "        # Split the tab-separated values\n",
    "        values = line.strip().split('\\t')\n",
    "        \n",
    "        # Check if the row contains an RSID (SNP)\n",
    "        if 'rs' in values[2]:\n",
    "            # Replace empty columns with \"None\"\n",
    "            values = ['None' if value == '' else value for value in values]\n",
    "            \n",
    "            # Write the filtered and cleaned data to the TSV file (excluding the 'Type' column)\n",
    "            tsv_file.write(f\"{values[0]}\\t{values[2]}\\t{values[3]}\\t{values[4]}\\n\")\n",
    "\n",
    "print(f\"Filtered SNP Mutation data is stored in {output_filename}\")"
   ]
  },
  {
   "cell_type": "code",
   "execution_count": 4,
   "id": "16a8b1f5",
   "metadata": {},
   "outputs": [],
   "source": [
    "#Stats"
   ]
  },
  {
   "cell_type": "code",
   "execution_count": 7,
   "id": "86fc788b",
   "metadata": {},
   "outputs": [
    {
     "name": "stdout",
     "output_type": "stream",
     "text": [
      "Total RSID annotations: 3069248\n",
      "Total unique PMID: 507356\n",
      "Total unique SNPs: 1118528\n"
     ]
    }
   ],
   "source": [
    "tsv_filename = 'snp_mutation_data.tsv'\n",
    "\n",
    "# Initialize variables to store statistics\n",
    "total_lines = 0\n",
    "unique_pmids = set()\n",
    "unique_snps = set()\n",
    "\n",
    "with open(tsv_filename, 'r') as tsv_file:\n",
    "    # Skip the header\n",
    "    next(tsv_file)\n",
    "    \n",
    "    # Process each line in the file\n",
    "    for line in tsv_file:\n",
    "        values = line.strip().split('\\t')\n",
    "        \n",
    "        # Increment the total RSID annotations count\n",
    "        total_lines += 1\n",
    "        \n",
    "        # Add the PMID to the set of unique PMIDs\n",
    "        unique_pmids.add(values[0])\n",
    "        \n",
    "        # Add the Concept ID (SNP) to the set of unique SNPs\n",
    "        unique_snps.add(values[1])\n",
    "\n",
    "# Calculated stats\n",
    "print(f\"Total RSID annotations: {total_lines}\")\n",
    "print(f\"Total unique PMID: {len(unique_pmids)}\")\n",
    "print(f\"Total unique SNPs: {len(unique_snps)}\")"
   ]
  },
  {
   "cell_type": "markdown",
   "id": "d7d16108",
   "metadata": {},
   "source": [
    "#### Code Summary\n",
    "'''\n",
    "The code processes the genetic mutation information. It extracts rows with RSID (SNP) annotations, \n",
    "excluding the \"Type\" column, and stores the filtered data in a TSV file. \n",
    "\n",
    "Then we conduct analysis on the filtered data, counting the total RSID annotations, unique PMID identifiers, and \n",
    "unique SNPs (Concept IDs). The results indicate 3,069,248 RSID annotations, 507,356 unique PMIDs, and 1,118,528 unique SNPs.\n",
    "This above code efficiently filters and analyzes genetic mutation data.\n",
    "'''"
   ]
  },
  {
   "cell_type": "markdown",
   "id": "c9a8aaf6",
   "metadata": {},
   "source": [
    "#### Data Description\n",
    "\n",
    "i.   PMID:       PubMed abstract identifier. </br>\n",
    "ii.  Concept ID: Corresponding database identifier (RSID). </br>\n",
    "iii. Mentions:   Bio-concept mentions corresponding to the PubMed abstract. </br>\n",
    "iv.  Resource:   Various manually annotated resources are included in the files (e.g., tmVar, dbSNP or ClinVar or combination)."
   ]
  },
  {
   "cell_type": "code",
   "execution_count": null,
   "id": "bd3bcda1",
   "metadata": {},
   "outputs": [],
   "source": []
  }
 ],
 "metadata": {
  "kernelspec": {
   "display_name": "Python 3 (ipykernel)",
   "language": "python",
   "name": "python3"
  },
  "language_info": {
   "codemirror_mode": {
    "name": "ipython",
    "version": 3
   },
   "file_extension": ".py",
   "mimetype": "text/x-python",
   "name": "python",
   "nbconvert_exporter": "python",
   "pygments_lexer": "ipython3",
   "version": "3.9.12"
  }
 },
 "nbformat": 4,
 "nbformat_minor": 5
}
